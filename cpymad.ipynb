{
 "cells": [
  {
   "cell_type": "code",
   "execution_count": 1,
   "id": "controlled-precipitation",
   "metadata": {},
   "outputs": [],
   "source": [
    "import time\n",
    "import os\n",
    "import sys\n",
    "import json\n",
    "import itertools\n",
    "import numpy as np\n",
    "\n",
    "from cpymad.madx import Madx"
   ]
  },
  {
   "cell_type": "code",
   "execution_count": 2,
   "id": "considered-sculpture",
   "metadata": {},
   "outputs": [
    {
     "name": "stdout",
     "output_type": "stream",
     "text": [
      "/home/dylan/ThesisWorkspace/Tracking/ThinLens/Models.py\n"
     ]
    }
   ],
   "source": [
    "sys.path.append(\"../\")\n",
    "\n",
    "import Models\n",
    "print(Models.__file__)"
   ]
  },
  {
   "cell_type": "markdown",
   "id": "innovative-electric",
   "metadata": {},
   "source": [
    "setup Mad-X"
   ]
  },
  {
   "cell_type": "code",
   "execution_count": 3,
   "id": "optional-namibia",
   "metadata": {},
   "outputs": [],
   "source": [
    "output = True\n",
    "madx = Madx(stdout=False)\n",
    "madx.options.echo = output \n",
    "madx.options.warn = output \n",
    "madx.options.info = output \n",
    "\n",
    "# specify beam\n",
    "assert madx.command.beam(mass=18.798, charge=7, exn=1.258e-6, eyn=2.005e-6, gamma=1.012291786)  # from Adrian\n",
    "\n",
    "# select lattice\n",
    "madx.call(\"/dev/shm/newSIS18.seq\")\n",
    "\n",
    "# set quadrupole strenghts\n",
    "k1f = 0.3525911342676681\n",
    "k1d = -0.3388671731064351\n",
    "k1f_support = 0.0\n",
    "\n",
    "madx.input(\"\"\"\n",
    "k1f={};\n",
    "k1d={};\n",
    "k1f_support={};\n",
    "\"\"\".format(k1f, k1d, k1f_support))\n",
    "\n",
    "# activate sequence\n",
    "sequence = \"SIS18\" \n",
    "\n",
    "assert madx.command.use(sequence=sequence)"
   ]
  },
  {
   "cell_type": "markdown",
   "id": "collected-friend",
   "metadata": {},
   "source": [
    "check tunes"
   ]
  },
  {
   "cell_type": "code",
   "execution_count": 4,
   "id": "secondary-maine",
   "metadata": {},
   "outputs": [
    {
     "name": "stdout",
     "output_type": "stream",
     "text": [
      "q1: 4.20, q2: 3.40\n"
     ]
    }
   ],
   "source": [
    "twiss = madx.command.twiss()\n",
    "print(\"q1: {:.2f}, q2: {:.2f}\".format(madx.table.summ[\"q1\"][0], madx.table.summ[\"q2\"][0]))"
   ]
  },
  {
   "cell_type": "markdown",
   "id": "special-colony",
   "metadata": {},
   "source": [
    "make thin and check tunes again"
   ]
  },
  {
   "cell_type": "code",
   "execution_count": 5,
   "id": "through-motorcycle",
   "metadata": {},
   "outputs": [
    {
     "name": "stdout",
     "output_type": "stream",
     "text": [
      "q1: 4.21, q2: 3.41\n"
     ]
    }
   ],
   "source": [
    "slices = 8\n",
    "\n",
    "madx.command.select(sequence=sequence, flag=\"makethin\", slice_=slices)\n",
    "madx.command.makethin(sequence=sequence, style=\"simple\", makedipedge=True)\n",
    "assert madx.command.use(sequence=sequence)\n",
    "\n",
    "# tunes\n",
    "twiss = madx.command.twiss()\n",
    "print(\"q1: {:.2f}, q2: {:.2f}\".format(madx.table.summ[\"q1\"][0], madx.table.summ[\"q2\"][0]))"
   ]
  },
  {
   "cell_type": "markdown",
   "id": "surrounded-locking",
   "metadata": {},
   "source": [
    "matching routine example"
   ]
  },
  {
   "cell_type": "code",
   "execution_count": 6,
   "id": "pressing-effort",
   "metadata": {},
   "outputs": [],
   "source": [
    "matchCommand = \"\"\"\n",
    "    match, sequence={};\n",
    "    global, sequence={}, q1={}, q2={};\n",
    "    vary, name=k1f, step=0.00001;\n",
    "    vary, name=k1d, step=0.00001;\n",
    "    lmdif, calls=500, tolerance=1.0e-10;\n",
    "    endmatch;\n",
    "    \"\"\".format(sequence, sequence, 4.2, 3.4)\n",
    "\n",
    "assert madx.input(matchCommand) "
   ]
  },
  {
   "cell_type": "markdown",
   "id": "prerequisite-territory",
   "metadata": {},
   "source": [
    "check final parameter values"
   ]
  },
  {
   "cell_type": "code",
   "execution_count": 7,
   "id": "chicken-glory",
   "metadata": {},
   "outputs": [
    {
     "name": "stdout",
     "output_type": "stream",
     "text": [
      "[4.20000001] [3.4]\n",
      "k1f: 0.35, k1d: -0.34\n"
     ]
    }
   ],
   "source": [
    "twiss = madx.command.twiss()\n",
    "print(madx.table.summ[\"q1\"], madx.table.summ[\"q2\"])\n",
    "\n",
    "print(\"k1f: {:.2f}, k1d: {:.2f}\".format(madx.globals[\"k1f\"], madx.globals[\"k1d\"]))"
   ]
  },
  {
   "cell_type": "markdown",
   "id": "differential-valve",
   "metadata": {},
   "source": [
    "load thin lens model"
   ]
  },
  {
   "cell_type": "code",
   "execution_count": 13,
   "id": "fundamental-electron",
   "metadata": {},
   "outputs": [
    {
     "name": "stdout",
     "output_type": "stream",
     "text": [
      "[0.19235964459840524, 0.4174420321208551]\n"
     ]
    }
   ],
   "source": [
    "model = Models.SIS18_Lattice_minimal(k1f=k1f, k1d=k1d, k1f_support=k1f_support,\n",
    "                                      slices=slices, quadSliceMultiplicity=1)\n",
    "\n",
    "# model = Models.SIS18_Lattice_minimal(k1f=madx.globals[\"k1f\"], k1d=madx.globals[\"k1d\"],\n",
    "#                                      k1f_support=madx.globals[\"k1f_support\"],\n",
    "#                                       slices=slices, quadSliceMultiplicity=1)\n",
    "\n",
    "print(model.getTunes())"
   ]
  },
  {
   "cell_type": "markdown",
   "id": "greenhouse-seeking",
   "metadata": {},
   "source": [
    "load model into Mad-X"
   ]
  },
  {
   "cell_type": "code",
   "execution_count": 18,
   "id": "figured-express",
   "metadata": {},
   "outputs": [],
   "source": [
    "madModel = Madx(stdout=False)\n",
    "\n",
    "# specify beam\n",
    "assert madModel.command.beam(mass=18.798, charge=7, exn=1.258e-6, eyn=2.005e-6, gamma=1.012291786)  # from Adrian\n",
    "\n",
    "# select lattice\n",
    "madModel.input(model.thinMultipoleMadX())\n",
    "\n",
    "sequence = \"SIS18\" \n",
    "assert madModel.command.use(sequence=sequence)"
   ]
  },
  {
   "cell_type": "code",
   "execution_count": 19,
   "id": "closing-knitting",
   "metadata": {},
   "outputs": [
    {
     "name": "stdout",
     "output_type": "stream",
     "text": [
      "q1: 4.19, q2: 3.42\n"
     ]
    }
   ],
   "source": [
    "# check tunes\n",
    "assert madModel.command.twiss()\n",
    "print(\"q1: {:.2f}, q2: {:.2f}\".format(madModel.table.summ[\"q1\"][0], madModel.table.summ[\"q2\"][0]))"
   ]
  },
  {
   "cell_type": "code",
   "execution_count": null,
   "id": "adequate-greensboro",
   "metadata": {},
   "outputs": [],
   "source": []
  }
 ],
 "metadata": {
  "kernelspec": {
   "display_name": "Python 3",
   "language": "python",
   "name": "python3"
  },
  "language_info": {
   "codemirror_mode": {
    "name": "ipython",
    "version": 3
   },
   "file_extension": ".py",
   "mimetype": "text/x-python",
   "name": "python",
   "nbconvert_exporter": "python",
   "pygments_lexer": "ipython3",
   "version": "3.8.5"
  }
 },
 "nbformat": 4,
 "nbformat_minor": 5
}
