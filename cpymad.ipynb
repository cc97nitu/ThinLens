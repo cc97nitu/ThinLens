{
 "cells": [
  {
   "cell_type": "code",
   "execution_count": 60,
   "id": "sought-relay",
   "metadata": {},
   "outputs": [],
   "source": [
    "import time\n",
    "import os\n",
    "import sys\n",
    "import json\n",
    "import itertools\n",
    "import numpy as np\n",
    "\n",
    "from cpymad.madx import Madx"
   ]
  },
  {
   "cell_type": "code",
   "execution_count": 61,
   "id": "damaged-costa",
   "metadata": {},
   "outputs": [
    {
     "name": "stdout",
     "output_type": "stream",
     "text": [
      "/home/dylan/ThesisWorkspace/Tracking/ThinLens/Models.py\n"
     ]
    }
   ],
   "source": [
    "sys.path.append(\"../\")\n",
    "\n",
    "import Models\n",
    "print(Models.__file__)"
   ]
  },
  {
   "cell_type": "markdown",
   "id": "unlike-course",
   "metadata": {},
   "source": [
    "setup Mad-X"
   ]
  },
  {
   "cell_type": "code",
   "execution_count": 62,
   "id": "concerned-equity",
   "metadata": {},
   "outputs": [],
   "source": [
    "output = True\n",
    "madx = Madx(stdout=False)\n",
    "madx.options.echo = output \n",
    "madx.options.warn = output \n",
    "madx.options.info = output \n",
    "\n",
    "# specify beam\n",
    "assert madx.command.beam(mass=18.798, charge=7, exn=1.258e-6, eyn=2.005e-6, gamma=1.012291786)  # from Adrian\n",
    "\n",
    "# select lattice\n",
    "madx.call(\"/dev/shm/newSIS18.seq\")\n",
    "\n",
    "# set quadrupole strenghts\n",
    "k1f = 0.3525911342676681\n",
    "k1d = -0.3388671731064351\n",
    "k1f_support = 0.0\n",
    "\n",
    "madx.input(\"\"\"\n",
    "k1f={};\n",
    "k1d={};\n",
    "k1f_support={};\n",
    "\"\"\".format(k1f, k1d, k1f_support))\n",
    "\n",
    "# activate sequence\n",
    "sequence = \"SIS18\" \n",
    "\n",
    "assert madx.command.use(sequence=sequence)"
   ]
  },
  {
   "cell_type": "markdown",
   "id": "rolled-genesis",
   "metadata": {},
   "source": [
    "check tunes"
   ]
  },
  {
   "cell_type": "code",
   "execution_count": 63,
   "id": "unnecessary-advance",
   "metadata": {},
   "outputs": [
    {
     "name": "stdout",
     "output_type": "stream",
     "text": [
      "q1: 4.20, q2: 3.40\n"
     ]
    }
   ],
   "source": [
    "twiss = madx.command.twiss()\n",
    "print(\"q1: {:.2f}, q2: {:.2f}\".format(madx.table.summ[\"q1\"][0], madx.table.summ[\"q2\"][0]))"
   ]
  },
  {
   "cell_type": "markdown",
   "id": "grand-heading",
   "metadata": {},
   "source": [
    "make thin and check tunes again"
   ]
  },
  {
   "cell_type": "code",
   "execution_count": 64,
   "id": "italian-reminder",
   "metadata": {},
   "outputs": [
    {
     "name": "stdout",
     "output_type": "stream",
     "text": [
      "q1: 4.21, q2: 3.41\n"
     ]
    }
   ],
   "source": [
    "slices = 8\n",
    "\n",
    "madx.command.select(sequence=sequence, flag=\"makethin\", slice_=slices)\n",
    "madx.command.makethin(sequence=sequence, style=\"simple\", makedipedge=True)\n",
    "assert madx.command.use(sequence=sequence)\n",
    "\n",
    "# tunes\n",
    "twiss = madx.command.twiss()\n",
    "print(\"q1: {:.2f}, q2: {:.2f}\".format(madx.table.summ[\"q1\"][0], madx.table.summ[\"q2\"][0]))"
   ]
  },
  {
   "cell_type": "markdown",
   "id": "according-firewall",
   "metadata": {},
   "source": [
    "matching routine example"
   ]
  },
  {
   "cell_type": "code",
   "execution_count": 65,
   "id": "cathedral-civilian",
   "metadata": {},
   "outputs": [],
   "source": [
    "matchCommand = \"\"\"\n",
    "    match, sequence={};\n",
    "    global, sequence={}, q1={}, q2={};\n",
    "    vary, name=k1f, step=0.00001;\n",
    "    vary, name=k1d, step=0.00001;\n",
    "    lmdif, calls=500, tolerance=1.0e-10;\n",
    "    endmatch;\n",
    "    \"\"\".format(sequence, sequence, 4.1, 3.1)\n",
    "\n",
    "assert madx.input(matchCommand) "
   ]
  },
  {
   "cell_type": "markdown",
   "id": "threaded-repeat",
   "metadata": {},
   "source": [
    "check final parameter values"
   ]
  },
  {
   "cell_type": "code",
   "execution_count": 66,
   "id": "considered-lease",
   "metadata": {},
   "outputs": [
    {
     "name": "stdout",
     "output_type": "stream",
     "text": [
      "[4.1] [3.1]\n",
      "k1f: 0.34, k1d: -0.32\n"
     ]
    }
   ],
   "source": [
    "twiss = madx.command.twiss()\n",
    "print(madx.table.summ[\"q1\"], madx.table.summ[\"q2\"])\n",
    "\n",
    "print(\"k1f: {:.2f}, k1d: {:.2f}\".format(madx.globals[\"k1f\"], madx.globals[\"k1d\"]))"
   ]
  },
  {
   "cell_type": "markdown",
   "id": "loaded-action",
   "metadata": {},
   "source": [
    "load thin lens model"
   ]
  },
  {
   "cell_type": "code",
   "execution_count": 67,
   "id": "adapted-public",
   "metadata": {},
   "outputs": [
    {
     "name": "stdout",
     "output_type": "stream",
     "text": [
      "[0.09201675865215862, 0.11839479980258319]\n"
     ]
    }
   ],
   "source": [
    "# model = Models.SIS18_Lattice_minimal(k1f=k1f, k1d=k1d, k1f_support=k1f_support,\n",
    "#                                       slices=slices, quadSliceMultiplicity=1)\n",
    "\n",
    "model = Models.SIS18_Lattice_minimal(k1f=madx.globals[\"k1f\"], k1d=madx.globals[\"k1d\"],\n",
    "                                     k1f_support=madx.globals[\"k1f_support\"],\n",
    "                                      slices=slices, quadSliceMultiplicity=1)\n",
    "\n",
    "print(model.getTunes())"
   ]
  },
  {
   "cell_type": "markdown",
   "id": "wireless-franklin",
   "metadata": {},
   "source": [
    "load model into Mad-X"
   ]
  },
  {
   "cell_type": "code",
   "execution_count": 68,
   "id": "advisory-usage",
   "metadata": {},
   "outputs": [],
   "source": [
    "madModel = Madx(stdout=False)\n",
    "\n",
    "# specify beam\n",
    "assert madModel.command.beam(mass=18.798, charge=7, exn=1.258e-6, eyn=2.005e-6, gamma=1.012291786)  # from Adrian\n",
    "\n",
    "# select lattice\n",
    "madModel.input(model.thinMultipoleMadX())\n",
    "\n",
    "sequence = \"SIS18\" \n",
    "assert madModel.command.use(sequence=sequence)"
   ]
  },
  {
   "cell_type": "code",
   "execution_count": 69,
   "id": "lined-saturn",
   "metadata": {},
   "outputs": [
    {
     "name": "stdout",
     "output_type": "stream",
     "text": [
      "q1: 4.09, q2: 3.12\n"
     ]
    }
   ],
   "source": [
    "# check tunes\n",
    "assert madModel.command.twiss()\n",
    "print(\"q1: {:.2f}, q2: {:.2f}\".format(madModel.table.summ[\"q1\"][0], madModel.table.summ[\"q2\"][0]))"
   ]
  },
  {
   "cell_type": "code",
   "execution_count": null,
   "id": "retained-lying",
   "metadata": {},
   "outputs": [],
   "source": []
  }
 ],
 "metadata": {
  "kernelspec": {
   "display_name": "Python 3",
   "language": "python",
   "name": "python3"
  },
  "language_info": {
   "codemirror_mode": {
    "name": "ipython",
    "version": 3
   },
   "file_extension": ".py",
   "mimetype": "text/x-python",
   "name": "python",
   "nbconvert_exporter": "python",
   "pygments_lexer": "ipython3",
   "version": "3.8.5"
  }
 },
 "nbformat": 4,
 "nbformat_minor": 5
}
